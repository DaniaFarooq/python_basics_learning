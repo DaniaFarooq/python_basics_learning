{
  "nbformat": 4,
  "nbformat_minor": 0,
  "metadata": {
    "colab": {
      "provenance": [],
      "authorship_tag": "ABX9TyOT/rH7mygNrUbXb8V6C/M8",
      "include_colab_link": true
    },
    "kernelspec": {
      "name": "python3",
      "display_name": "Python 3"
    },
    "language_info": {
      "name": "python"
    }
  },
  "cells": [
    {
      "cell_type": "markdown",
      "metadata": {
        "id": "view-in-github",
        "colab_type": "text"
      },
      "source": [
        "<a href=\"https://colab.research.google.com/github/DaniaFarooq/python_basics_learning/blob/main/Intro_to_Python.ipynb\" target=\"_parent\"><img src=\"https://colab.research.google.com/assets/colab-badge.svg\" alt=\"Open In Colab\"/></a>"
      ]
    },
    {
      "cell_type": "markdown",
      "source": [
        "**Intro to Python:**"
      ],
      "metadata": {
        "id": "gabZfAvS8jqM"
      }
    },
    {
      "cell_type": "markdown",
      "source": [
        "Q.1 What is Python and what are its key features?\n",
        "\n",
        "Python is an easy-to-use, versatile programming language with an active community. Its key features are:\n",
        "\n",
        "1.   It is interpreted, executes code line by line.\n",
        "2.   It is easy to learn and has simple syntax.\n",
        "3.   It is versatile and helpful in various fields like web development, data science and AI automation.\n",
        "\n",
        "\n"
      ],
      "metadata": {
        "id": "k6spyVROdRBh"
      }
    },
    {
      "cell_type": "code",
      "source": [
        "# Q.2 What is Python program to print your full name on the screen?\n",
        "print(\"Dania Farooq\")"
      ],
      "metadata": {
        "colab": {
          "base_uri": "https://localhost:8080/"
        },
        "id": "0JbwZIVOghdu",
        "outputId": "835db4c0-cdb7-4918-a9a9-c756370ff397"
      },
      "execution_count": null,
      "outputs": [
        {
          "output_type": "stream",
          "name": "stdout",
          "text": [
            "Dania Farooq\n"
          ]
        }
      ]
    },
    {
      "cell_type": "code",
      "source": [
        "# Q.3 What is the syntax of the print() function in Python?\n",
        "print(\"First\",\"assignment\" , sep=' \\ ', end='!', flush=True)\n",
        "# first and assignment are values to print\n",
        "# sep= to seperate values\n",
        "# end= what to print at the end of code\n",
        "# flush= force output to be written immediately\n"
      ],
      "metadata": {
        "colab": {
          "base_uri": "https://localhost:8080/"
        },
        "id": "XLhPoEZRjT94",
        "outputId": "19a56362-ee86-4738-d445-edaf194caeb3"
      },
      "execution_count": null,
      "outputs": [
        {
          "output_type": "stream",
          "name": "stdout",
          "text": [
            "First \\ assignment!"
          ]
        }
      ]
    },
    {
      "cell_type": "code",
      "source": [
        "# Q.4 How do you add multiple values in a single print call?\n",
        "# we can add multiple values in a single print() call by either using a default space seperator or by adding a custom seperator sep=().\n",
        "print(\"I\", \"am\", \"learning\")\n",
        "# or using sep()\n",
        "print(\"I\", \"am\", \"learning\", sep=\"+\")\n"
      ],
      "metadata": {
        "colab": {
          "base_uri": "https://localhost:8080/"
        },
        "id": "Ui89hwz70ZWl",
        "outputId": "6771a31e-5f45-48f0-b396-9a47827f962a"
      },
      "execution_count": null,
      "outputs": [
        {
          "output_type": "stream",
          "name": "stdout",
          "text": [
            "I am learning\n",
            "I+am+learning\n"
          ]
        }
      ]
    },
    {
      "cell_type": "markdown",
      "source": [
        "**Comments in Python:**"
      ],
      "metadata": {
        "id": "4UnNCec08zTi"
      }
    },
    {
      "cell_type": "code",
      "source": [
        "# Q.5 What is a comment in Python and how it is used?\n",
        "#  Comment in Python is the line in code that needs to be ignored by Python interpreter. It can be for user's personal comment, to make note or disable code temporarily.\n",
        "print(\"The values after this print function are not interpreted by Python\")\n",
        "# referring to this line"
      ],
      "metadata": {
        "colab": {
          "base_uri": "https://localhost:8080/"
        },
        "id": "zI1MVP2o2LiS",
        "outputId": "c34bfb5a-46fa-4d90-841f-f583d050c42a"
      },
      "execution_count": null,
      "outputs": [
        {
          "output_type": "stream",
          "name": "stdout",
          "text": [
            "The values after this print function are not interpreted by Python\n"
          ]
        }
      ]
    },
    {
      "cell_type": "markdown",
      "source": [
        "Q.6 what is the difference between single-line and multiple-line comments?\n",
        "\n",
        "Single line comment is usually commented by using a backslash and Ctrl. It comments out single line in the code.While Multiple line comment is used to comment out multiple lines in code. Commonly used method is using triple single Quotes (''') or triple double quotes (\"\"\").\n"
      ],
      "metadata": {
        "id": "dD5xXJJU3h-M"
      }
    },
    {
      "cell_type": "code",
      "source": [
        "# Q.7 Add a comment in python explaining the purpose of a program?\n",
        "radius =(\"3\")\n",
        "area = (3.14) * 3 ** 2\n",
        "# the formula for area is pi r^2.\n",
        "print(area)"
      ],
      "metadata": {
        "colab": {
          "base_uri": "https://localhost:8080/"
        },
        "id": "PikTZKdc6PQo",
        "outputId": "97e9eaae-c373-4976-c2c3-4ae672096b03"
      },
      "execution_count": null,
      "outputs": [
        {
          "output_type": "stream",
          "name": "stdout",
          "text": [
            "28.26\n"
          ]
        }
      ]
    },
    {
      "cell_type": "markdown",
      "source": [
        "**Escape characters in Python:**"
      ],
      "metadata": {
        "id": "T3FGPE5W9K52"
      }
    },
    {
      "cell_type": "markdown",
      "source": [
        "Q.8 What are escape characters in Python? Give examples.\n",
        "\n",
        "Escape characters are the special sequences in code that are non printable or cannot be inserted directly in a string. They are written as backslash followed by a character. e.g\n",
        "print(Hi\\n how are you?) here, \\n will start a new line.\n",
        "print(My name is \\\"Dania) here, Dania will be written in double quotes.\n",
        "\n",
        "\n"
      ],
      "metadata": {
        "id": "1hI3QpQr7f_-"
      }
    },
    {
      "cell_type": "code",
      "source": [
        "# Q.9 Print the sentence: He said,\"Python is great!\" using escape characters.\n",
        "print(\"He said,\\\"Python is great!\\\"\")"
      ],
      "metadata": {
        "colab": {
          "base_uri": "https://localhost:8080/"
        },
        "id": "m-XsGe9TBsjS",
        "outputId": "5478d5bf-a7eb-4e0e-ee10-fb884519e186"
      },
      "execution_count": null,
      "outputs": [
        {
          "output_type": "stream",
          "name": "stdout",
          "text": [
            "He said,\"Python is great!\"\n"
          ]
        }
      ]
    },
    {
      "cell_type": "code",
      "source": [
        "# Q.10 Print the following using escape characters:\n",
        "print(\"Hello \\nWorld!\")"
      ],
      "metadata": {
        "colab": {
          "base_uri": "https://localhost:8080/"
        },
        "id": "lboVumi3CUFt",
        "outputId": "639f73ec-7364-45fc-d0aa-ada5bae53429"
      },
      "execution_count": null,
      "outputs": [
        {
          "output_type": "stream",
          "name": "stdout",
          "text": [
            "Hello \n",
            "World!\n"
          ]
        }
      ]
    },
    {
      "cell_type": "code",
      "source": [
        "# Q.11 Print a tabbed table using \\t\n",
        "print(\"Name\\tAge\\tCity\\nAli\\t25\\tLahore\")"
      ],
      "metadata": {
        "colab": {
          "base_uri": "https://localhost:8080/"
        },
        "id": "rObOnxbSCsNk",
        "outputId": "00c42f75-4615-4bb6-ce0c-c6c73431da21"
      },
      "execution_count": null,
      "outputs": [
        {
          "output_type": "stream",
          "name": "stdout",
          "text": [
            "Name\tAge\tCity\n",
            "Ali\t25\tLahore\n"
          ]
        }
      ]
    },
    {
      "cell_type": "markdown",
      "source": [
        "Q.12 what does \\n do in a print statement?\n",
        "\n",
        "\\n is an escape character that is used to start a new line within a string in a print statement."
      ],
      "metadata": {
        "id": "674a5H0WDEba"
      }
    },
    {
      "cell_type": "code",
      "source": [
        "# Q.13 How do you include a backslash \\ in your output using print()?\n",
        "# we add backslash using the escape character i.e a backslash followed by a backslash again.\n",
        "print(\"This is a backslash \\\\\")"
      ],
      "metadata": {
        "id": "WrRIzeZ8DX8p"
      },
      "execution_count": null,
      "outputs": []
    },
    {
      "cell_type": "code",
      "source": [
        "# Q.14 What happens if you forget to close a string with a quote?\n",
        "# It gives an error.\n",
        "print(\"Here i intentionally forgot the closing quote)"
      ],
      "metadata": {
        "colab": {
          "base_uri": "https://localhost:8080/",
          "height": 106
        },
        "id": "a8QveWkKD4Zt",
        "outputId": "4c54e697-0ea6-4ea8-ac3f-d20b8706d726"
      },
      "execution_count": null,
      "outputs": [
        {
          "output_type": "error",
          "ename": "SyntaxError",
          "evalue": "unterminated string literal (detected at line 3) (ipython-input-1263437601.py, line 3)",
          "traceback": [
            "\u001b[0;36m  File \u001b[0;32m\"/tmp/ipython-input-1263437601.py\"\u001b[0;36m, line \u001b[0;32m3\u001b[0m\n\u001b[0;31m    print(\"Here i intentionally forgot the closing quote)\u001b[0m\n\u001b[0m          ^\u001b[0m\n\u001b[0;31mSyntaxError\u001b[0m\u001b[0;31m:\u001b[0m unterminated string literal (detected at line 3)\n"
          ]
        }
      ]
    },
    {
      "cell_type": "code",
      "source": [
        "# Q.15 Write a single line Python program that prints the given statement.\n",
        "print(\"This is Python! \\nLet's code.\")"
      ],
      "metadata": {
        "colab": {
          "base_uri": "https://localhost:8080/"
        },
        "id": "DHbV4Z2lEabb",
        "outputId": "032a90e2-2bb1-465d-e471-7b35c9e3d702"
      },
      "execution_count": null,
      "outputs": [
        {
          "output_type": "stream",
          "name": "stdout",
          "text": [
            "This is Python! \n",
            "Let's code.\n"
          ]
        }
      ]
    }
  ]
}